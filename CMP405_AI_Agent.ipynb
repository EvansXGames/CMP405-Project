{
  "nbformat": 4,
  "nbformat_minor": 0,
  "metadata": {
    "colab": {
      "provenance": [],
      "authorship_tag": "ABX9TyOh9yKdGf7iOmxqBCDkNPrq",
      "include_colab_link": true
    },
    "kernelspec": {
      "name": "python3",
      "display_name": "Python 3"
    },
    "language_info": {
      "name": "python"
    }
  },
  "cells": [
    {
      "cell_type": "markdown",
      "metadata": {
        "id": "view-in-github",
        "colab_type": "text"
      },
      "source": [
        "<a href=\"https://colab.research.google.com/github/EvansXGames/CMP405-Project/blob/main/CMP405_AI_Agent.ipynb\" target=\"_parent\"><img src=\"https://colab.research.google.com/assets/colab-badge.svg\" alt=\"Open In Colab\"/></a>"
      ]
    },
    {
      "cell_type": "code",
      "execution_count": 6,
      "metadata": {
        "id": "txKlkGn8Gdhb"
      },
      "outputs": [],
      "source": [
        "import pandas as pd\n",
        "import joblib\n",
        "from sklearn.ensemble import RandomForestClassifier\n",
        "\n",
        "# === Load & sample data ===\n",
        "df = pd.read_csv(\"games.csv\")\n",
        "df['blueWins'] = df['winner'].apply(lambda x: 1 if x == 1 else 0)\n",
        "df = df.drop(columns=[col for col in ['gameId', 'creationTime', 'seasonId', 'gameDuration', 'winner'] if col in df.columns])\n",
        "df = df.dropna()\n",
        "df = df.sample(frac=0.3, random_state=42)  # Speed up training\n",
        "\n",
        "X = df.drop(columns=['blueWins'])\n",
        "y = df['blueWins']\n",
        "\n",
        "# === Train model ===\n",
        "model = RandomForestClassifier(n_estimators=20, random_state=42)\n",
        "model.fit(X, y)\n",
        "\n",
        "# === Save model and features ===\n",
        "joblib.dump(model, 'lol_win_predictor.pkl')\n",
        "joblib.dump(X.columns.tolist(), 'model_features.pkl')\n",
        "\n",
        "# === AI Agent ===\n",
        "def predict_blue_win(game_features: dict, threshold=0.5):\n",
        "    model = joblib.load('lol_win_predictor.pkl')\n",
        "    feature_list = joblib.load('model_features.pkl')\n",
        "    input_data = {feature: game_features.get(feature, 0) for feature in feature_list}\n",
        "    input_df = pd.DataFrame([input_data])\n",
        "    proba = model.predict_proba(input_df)[0][1]\n",
        "    return \"Blue Win\" if proba >= threshold else \"Red Win\""
      ]
    }
  ]
}